{
 "cells": [
  {
   "cell_type": "markdown",
   "id": "98899953",
   "metadata": {},
   "source": [
    "Import libraries"
   ]
  },
  {
   "cell_type": "code",
   "execution_count": 19,
   "id": "db0defda",
   "metadata": {},
   "outputs": [],
   "source": [
    "import requests\n",
    "import json"
   ]
  },
  {
   "cell_type": "markdown",
   "id": "7de06d35",
   "metadata": {},
   "source": [
    "set localhost url and data"
   ]
  },
  {
   "cell_type": "code",
   "execution_count": 20,
   "id": "8f23b454",
   "metadata": {},
   "outputs": [],
   "source": [
    "url = \"http://localhost:11434/api/generate\"\n",
    "\n",
    "data = {\n",
    "    \"model\" : \"llama3.2\",\n",
    "    \"prompt\": \"tell me a shor funny story.\",\n",
    "}"
   ]
  },
  {
   "cell_type": "markdown",
   "id": "1eaf7066",
   "metadata": {},
   "source": [
    "get response from url and print it"
   ]
  },
  {
   "cell_type": "code",
   "execution_count": 21,
   "id": "e0b1a52f",
   "metadata": {},
   "outputs": [
    {
     "name": "stdout",
     "output_type": "stream",
     "text": [
      "Generated Text:Here's one:\n",
      "\n",
      "One day, a man walked into a library and asked the librarian, \"Do you have any books on Pavlov's dogs and Schrödinger's cat?\"\n",
      "\n",
      "The librarian replied, \"It rings a bell, but I'm not sure if it's here or not.\""
     ]
    }
   ],
   "source": [
    "response = requests.post(url, json=data, stream=True)\n",
    "if response.status_code == 200:\n",
    "    print(\"Generated Text:\", end=\"\", flush=True)\n",
    "    #iterate over the streaming response\n",
    "    for line in response.iter_lines():\n",
    "        if line:\n",
    "            #decode the line and parse the JSON++\n",
    "            decoded_line = line.decode(\"utf-8\")\n",
    "            result = json.loads(decoded_line)\n",
    "            #get the text from response\n",
    "            generated_text = result.get(\"response\", \"\")\n",
    "            print(generated_text, end=\"\", flush=True)\n",
    "else:\n",
    "    print(\"Error:\", response.status_code, response.text)"
   ]
  }
 ],
 "metadata": {
  "kernelspec": {
   "display_name": "Python 3 (ipykernel)",
   "language": "python",
   "name": "python3"
  },
  "language_info": {
   "codemirror_mode": {
    "name": "ipython",
    "version": 3
   },
   "file_extension": ".py",
   "mimetype": "text/x-python",
   "name": "python",
   "nbconvert_exporter": "python",
   "pygments_lexer": "ipython3",
   "version": "3.9.10"
  }
 },
 "nbformat": 4,
 "nbformat_minor": 5
}
